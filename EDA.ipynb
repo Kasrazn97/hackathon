{
 "cells": [
  {
   "cell_type": "code",
   "execution_count": 2,
   "outputs": [],
   "source": [
    "import pandas as pd\n",
    "import numpy as np"
   ],
   "metadata": {
    "collapsed": false,
    "pycharm": {
     "name": "#%%\n"
    }
   }
  },
  {
   "cell_type": "code",
   "execution_count": 3,
   "outputs": [
    {
     "data": {
      "text/plain": "    ProductKey  BrandKey  SupplierKey ProductCategory_Lvl1  \\\n0    key_52138      3521   1039040101           Category A   \n1        19864      3521   1039040125           Category A   \n2        95144      1713   1049688101           Category A   \n3        23070      3521   1050235101           Category A   \n4        93165      3521   1039040125           Category A   \n..         ...       ...          ...                  ...   \n293      12353      3521   1036290101           Category A   \n294      55442       132   1036290101           Category A   \n295      78206      3521   1039040101           Category A   \n296      55438       132   1036290101           Category A   \n297  key_96971      3521   1036290101           Category A   \n\n    ProductCategory_Lvl2  \n0            category aa  \n1            Category AC  \n2            Category AA  \n3            Category AC  \n4            Category AC  \n..                   ...  \n293          Category AB  \n294          Category AC  \n295          Category AC  \n296          Category AB  \n297          Category AA  \n\n[298 rows x 5 columns]",
      "text/html": "<div>\n<style scoped>\n    .dataframe tbody tr th:only-of-type {\n        vertical-align: middle;\n    }\n\n    .dataframe tbody tr th {\n        vertical-align: top;\n    }\n\n    .dataframe thead th {\n        text-align: right;\n    }\n</style>\n<table border=\"1\" class=\"dataframe\">\n  <thead>\n    <tr style=\"text-align: right;\">\n      <th></th>\n      <th>ProductKey</th>\n      <th>BrandKey</th>\n      <th>SupplierKey</th>\n      <th>ProductCategory_Lvl1</th>\n      <th>ProductCategory_Lvl2</th>\n    </tr>\n  </thead>\n  <tbody>\n    <tr>\n      <th>0</th>\n      <td>key_52138</td>\n      <td>3521</td>\n      <td>1039040101</td>\n      <td>Category A</td>\n      <td>category aa</td>\n    </tr>\n    <tr>\n      <th>1</th>\n      <td>19864</td>\n      <td>3521</td>\n      <td>1039040125</td>\n      <td>Category A</td>\n      <td>Category AC</td>\n    </tr>\n    <tr>\n      <th>2</th>\n      <td>95144</td>\n      <td>1713</td>\n      <td>1049688101</td>\n      <td>Category A</td>\n      <td>Category AA</td>\n    </tr>\n    <tr>\n      <th>3</th>\n      <td>23070</td>\n      <td>3521</td>\n      <td>1050235101</td>\n      <td>Category A</td>\n      <td>Category AC</td>\n    </tr>\n    <tr>\n      <th>4</th>\n      <td>93165</td>\n      <td>3521</td>\n      <td>1039040125</td>\n      <td>Category A</td>\n      <td>Category AC</td>\n    </tr>\n    <tr>\n      <th>...</th>\n      <td>...</td>\n      <td>...</td>\n      <td>...</td>\n      <td>...</td>\n      <td>...</td>\n    </tr>\n    <tr>\n      <th>293</th>\n      <td>12353</td>\n      <td>3521</td>\n      <td>1036290101</td>\n      <td>Category A</td>\n      <td>Category AB</td>\n    </tr>\n    <tr>\n      <th>294</th>\n      <td>55442</td>\n      <td>132</td>\n      <td>1036290101</td>\n      <td>Category A</td>\n      <td>Category AC</td>\n    </tr>\n    <tr>\n      <th>295</th>\n      <td>78206</td>\n      <td>3521</td>\n      <td>1039040101</td>\n      <td>Category A</td>\n      <td>Category AC</td>\n    </tr>\n    <tr>\n      <th>296</th>\n      <td>55438</td>\n      <td>132</td>\n      <td>1036290101</td>\n      <td>Category A</td>\n      <td>Category AB</td>\n    </tr>\n    <tr>\n      <th>297</th>\n      <td>key_96971</td>\n      <td>3521</td>\n      <td>1036290101</td>\n      <td>Category A</td>\n      <td>Category AA</td>\n    </tr>\n  </tbody>\n</table>\n<p>298 rows × 5 columns</p>\n</div>"
     },
     "execution_count": 3,
     "metadata": {},
     "output_type": "execute_result"
    }
   ],
   "source": [
    "df_product = pd.read_csv('Assets/data/Hackathon_DimProduct_SAN_vShared.csv',header=0)\n",
    "df_product"
   ],
   "metadata": {
    "collapsed": false,
    "pycharm": {
     "name": "#%%\n"
    }
   }
  },
  {
   "cell_type": "code",
   "execution_count": 44,
   "outputs": [
    {
     "data": {
      "text/plain": "ProductKey              object\nBrandKey                 int64\nSupplierKey              int64\nProductCategory_Lvl1    object\nProductCategory_Lvl2    object\ndtype: object"
     },
     "execution_count": 44,
     "metadata": {},
     "output_type": "execute_result"
    }
   ],
   "source": [
    "df_product.dtypes"
   ],
   "metadata": {
    "collapsed": false,
    "pycharm": {
     "name": "#%%\n"
    }
   }
  },
  {
   "cell_type": "code",
   "execution_count": 52,
   "outputs": [],
   "source": [
    "import string\n",
    "import re\n",
    "\n",
    "def remove_punctuations(ts):\n",
    "    '''Takes a word and removes all punctuations.\n",
    "     :parameter\n",
    "     ts: str\n",
    "        the word to be cleaned\n",
    "    :returns\n",
    "    -----\n",
    "    str\n",
    "        the cleaned version\n",
    "      '''\n",
    "    ts=str(ts)\n",
    "    for punctuation in string.punctuation:\n",
    "        ts = ts.replace(punctuation, '')\n",
    "    return ts\n",
    "\n",
    "def remove_non_numbers(ts):\n",
    "    '''Takes a word and removes all non-digit characters.\n",
    "     :parameter\n",
    "     ts: str\n",
    "        the word to be cleaned\n",
    "    :returns\n",
    "    -----\n",
    "    str\n",
    "        the cleaned version\n",
    "      '''\n",
    "    return int(re.sub('[^0-9.]', '',str(ts)))\n",
    "\n",
    "def name_corrector(ts):\n",
    "    '''Takes a word and removes all whitespaces, transforms it to lowercase,\n",
    "     and connects the words using '_'. Also checks for misspelling.\n",
    "     :parameter\n",
    "     ts: str\n",
    "        the word to be corrected\n",
    "    :returns\n",
    "    -----\n",
    "    str\n",
    "        the corrected version\n",
    "      '''\n",
    "    return re.sub('categrory','category','_'.join(re.sub(' +',' ',ts).lower().split(' ')))"
   ],
   "metadata": {
    "collapsed": false,
    "pycharm": {
     "name": "#%%\n"
    }
   }
  },
  {
   "cell_type": "code",
   "execution_count": 45,
   "outputs": [
    {
     "data": {
      "text/plain": "Index(['ProductKey', 'BrandKey', 'SupplierKey', 'ProductCategory_Lvl1',\n       'ProductCategory_Lvl2'],\n      dtype='object')"
     },
     "execution_count": 45,
     "metadata": {},
     "output_type": "execute_result"
    }
   ],
   "source": [
    "df_product.columns"
   ],
   "metadata": {
    "collapsed": false,
    "pycharm": {
     "name": "#%%\n"
    }
   }
  },
  {
   "cell_type": "code",
   "execution_count": 51,
   "outputs": [],
   "source": [
    "df_product_clean = df_product.copy()\n",
    "for col in ['ProductKey', 'BrandKey', 'SupplierKey']:\n",
    "    df_product_clean[col] = df_product[col].apply(remove_punctuations)\n",
    "    df_product_clean[col] = df_product[col].apply(remove_non_numbers)\n",
    "\n",
    "for col in ['ProductCategory_Lvl1','ProductCategory_Lvl2']:\n",
    "    df_product_clean[col]= df_product[col].apply(remove_punctuations)\n",
    "    df_product_clean[col] = df_product[col].apply(name_corrector)\n"
   ],
   "metadata": {
    "collapsed": false,
    "pycharm": {
     "name": "#%%\n"
    }
   }
  },
  {
   "cell_type": "code",
   "execution_count": 68,
   "outputs": [
    {
     "data": {
      "text/plain": "      PromotionKey            PromoMechanic PromotionStartDate  \\\n0            312237          Percentage off          10/1/2021   \n1            265157           Buy $X for Y%          2/25/2020   \n2            270553           Buy $X for $Y          1/15/2020   \n3            308082  X units for $Y (X = 1)          3/10/2021   \n4            317323                     PWP          5/13/2022   \n...             ...                     ...                ...   \n3426         297974  X units for $Y (X = 1)           1/1/2022   \n3427         339287           Buy $X for $Y         12/12/2021   \n3428         263837  X units for $Y (X = 1)          2/27/2020   \n3429         375529  X units for $Y (X > 1)         11/16/2022   \n3430         352362  X units for $Y (X > 1)          1/18/2020   \n\n     PromotionEndDate  \n0           10/6/2021  \n1           2/25/2020  \n2           1/27/2020  \n3           3/29/2021  \n4            7/6/2022  \n...               ...  \n3426        6/30/2022  \n3427       12/12/2021  \n3428        3/30/2020  \n3429         1/2/2023  \n3430         3/4/2020  \n\n[3431 rows x 4 columns]",
      "text/html": "<div>\n<style scoped>\n    .dataframe tbody tr th:only-of-type {\n        vertical-align: middle;\n    }\n\n    .dataframe tbody tr th {\n        vertical-align: top;\n    }\n\n    .dataframe thead th {\n        text-align: right;\n    }\n</style>\n<table border=\"1\" class=\"dataframe\">\n  <thead>\n    <tr style=\"text-align: right;\">\n      <th></th>\n      <th>PromotionKey</th>\n      <th>PromoMechanic</th>\n      <th>PromotionStartDate</th>\n      <th>PromotionEndDate</th>\n    </tr>\n  </thead>\n  <tbody>\n    <tr>\n      <th>0</th>\n      <td>312237</td>\n      <td>Percentage off</td>\n      <td>10/1/2021</td>\n      <td>10/6/2021</td>\n    </tr>\n    <tr>\n      <th>1</th>\n      <td>265157</td>\n      <td>Buy $X for Y%</td>\n      <td>2/25/2020</td>\n      <td>2/25/2020</td>\n    </tr>\n    <tr>\n      <th>2</th>\n      <td>270553</td>\n      <td>Buy $X for $Y</td>\n      <td>1/15/2020</td>\n      <td>1/27/2020</td>\n    </tr>\n    <tr>\n      <th>3</th>\n      <td>308082</td>\n      <td>X units for $Y (X = 1)</td>\n      <td>3/10/2021</td>\n      <td>3/29/2021</td>\n    </tr>\n    <tr>\n      <th>4</th>\n      <td>317323</td>\n      <td>PWP</td>\n      <td>5/13/2022</td>\n      <td>7/6/2022</td>\n    </tr>\n    <tr>\n      <th>...</th>\n      <td>...</td>\n      <td>...</td>\n      <td>...</td>\n      <td>...</td>\n    </tr>\n    <tr>\n      <th>3426</th>\n      <td>297974</td>\n      <td>X units for $Y (X = 1)</td>\n      <td>1/1/2022</td>\n      <td>6/30/2022</td>\n    </tr>\n    <tr>\n      <th>3427</th>\n      <td>339287</td>\n      <td>Buy $X for $Y</td>\n      <td>12/12/2021</td>\n      <td>12/12/2021</td>\n    </tr>\n    <tr>\n      <th>3428</th>\n      <td>263837</td>\n      <td>X units for $Y (X = 1)</td>\n      <td>2/27/2020</td>\n      <td>3/30/2020</td>\n    </tr>\n    <tr>\n      <th>3429</th>\n      <td>375529</td>\n      <td>X units for $Y (X &gt; 1)</td>\n      <td>11/16/2022</td>\n      <td>1/2/2023</td>\n    </tr>\n    <tr>\n      <th>3430</th>\n      <td>352362</td>\n      <td>X units for $Y (X &gt; 1)</td>\n      <td>1/18/2020</td>\n      <td>3/4/2020</td>\n    </tr>\n  </tbody>\n</table>\n<p>3431 rows × 4 columns</p>\n</div>"
     },
     "execution_count": 68,
     "metadata": {},
     "output_type": "execute_result"
    }
   ],
   "source": [
    "df_promotion = pd.read_csv('Assets/data/Hackathon_DimPromotion_SAN_vShared.csv',header=0)\n",
    "df_promotion"
   ],
   "metadata": {
    "collapsed": false,
    "pycharm": {
     "name": "#%%\n"
    }
   }
  },
  {
   "cell_type": "code",
   "execution_count": 61,
   "outputs": [
    {
     "data": {
      "text/plain": "PromotionKey           int64\nPromoMechanic         object\nPromotionStartDate    object\nPromotionEndDate      object\ndtype: object"
     },
     "execution_count": 61,
     "metadata": {},
     "output_type": "execute_result"
    }
   ],
   "source": [
    "df_promotion.dtypes"
   ],
   "metadata": {
    "collapsed": false,
    "pycharm": {
     "name": "#%%\n"
    }
   }
  },
  {
   "cell_type": "code",
   "execution_count": 69,
   "outputs": [],
   "source": [
    "df_promotion.PromotionStartDate = df_promotion.PromotionStartDate.astype('datetime64[ns]')\n",
    "df_promotion.PromotionEndDate = df_promotion.PromotionEndDate.astype('datetime64[ns]')"
   ],
   "metadata": {
    "collapsed": false,
    "pycharm": {
     "name": "#%%\n"
    }
   }
  },
  {
   "cell_type": "code",
   "execution_count": 70,
   "outputs": [
    {
     "data": {
      "text/plain": "PromotionKey                   int64\nPromoMechanic                 object\nPromotionStartDate    datetime64[ns]\nPromotionEndDate      datetime64[ns]\ndtype: object"
     },
     "execution_count": 70,
     "metadata": {},
     "output_type": "execute_result"
    }
   ],
   "source": [
    "df_promotion.dtypes"
   ],
   "metadata": {
    "collapsed": false,
    "pycharm": {
     "name": "#%%\n"
    }
   }
  },
  {
   "cell_type": "code",
   "execution_count": 72,
   "outputs": [
    {
     "data": {
      "text/plain": "     StoreKey DistributionChannel     StoreType Region_Lvl1 Region_Lvl2\n0         559            Physical  Store Type B     RegionA   Region 34\n1         168            Physical  Store Type B     RegionA    Region 2\n2        2061            Physical  Store Type E     RegionA   Region 10\n3         590            Physical  Store Type D     RegionA    Region 2\n4         301            Physical  Store Type B     RegionA  Region 123\n..        ...                 ...           ...         ...         ...\n734       463            Physical  Store Type B     RegionB  Region 141\n735         4            Physical  Store Type C     RegionA    Region 4\n736       280            Physical  Store Type D     RegionB   Region 39\n737       688            Physical  Store Type G     RegionA  Region 112\n738       892              Online  Store Type H      Online   Region 30\n\n[739 rows x 5 columns]",
      "text/html": "<div>\n<style scoped>\n    .dataframe tbody tr th:only-of-type {\n        vertical-align: middle;\n    }\n\n    .dataframe tbody tr th {\n        vertical-align: top;\n    }\n\n    .dataframe thead th {\n        text-align: right;\n    }\n</style>\n<table border=\"1\" class=\"dataframe\">\n  <thead>\n    <tr style=\"text-align: right;\">\n      <th></th>\n      <th>StoreKey</th>\n      <th>DistributionChannel</th>\n      <th>StoreType</th>\n      <th>Region_Lvl1</th>\n      <th>Region_Lvl2</th>\n    </tr>\n  </thead>\n  <tbody>\n    <tr>\n      <th>0</th>\n      <td>559</td>\n      <td>Physical</td>\n      <td>Store Type B</td>\n      <td>RegionA</td>\n      <td>Region 34</td>\n    </tr>\n    <tr>\n      <th>1</th>\n      <td>168</td>\n      <td>Physical</td>\n      <td>Store Type B</td>\n      <td>RegionA</td>\n      <td>Region 2</td>\n    </tr>\n    <tr>\n      <th>2</th>\n      <td>2061</td>\n      <td>Physical</td>\n      <td>Store Type E</td>\n      <td>RegionA</td>\n      <td>Region 10</td>\n    </tr>\n    <tr>\n      <th>3</th>\n      <td>590</td>\n      <td>Physical</td>\n      <td>Store Type D</td>\n      <td>RegionA</td>\n      <td>Region 2</td>\n    </tr>\n    <tr>\n      <th>4</th>\n      <td>301</td>\n      <td>Physical</td>\n      <td>Store Type B</td>\n      <td>RegionA</td>\n      <td>Region 123</td>\n    </tr>\n    <tr>\n      <th>...</th>\n      <td>...</td>\n      <td>...</td>\n      <td>...</td>\n      <td>...</td>\n      <td>...</td>\n    </tr>\n    <tr>\n      <th>734</th>\n      <td>463</td>\n      <td>Physical</td>\n      <td>Store Type B</td>\n      <td>RegionB</td>\n      <td>Region 141</td>\n    </tr>\n    <tr>\n      <th>735</th>\n      <td>4</td>\n      <td>Physical</td>\n      <td>Store Type C</td>\n      <td>RegionA</td>\n      <td>Region 4</td>\n    </tr>\n    <tr>\n      <th>736</th>\n      <td>280</td>\n      <td>Physical</td>\n      <td>Store Type D</td>\n      <td>RegionB</td>\n      <td>Region 39</td>\n    </tr>\n    <tr>\n      <th>737</th>\n      <td>688</td>\n      <td>Physical</td>\n      <td>Store Type G</td>\n      <td>RegionA</td>\n      <td>Region 112</td>\n    </tr>\n    <tr>\n      <th>738</th>\n      <td>892</td>\n      <td>Online</td>\n      <td>Store Type H</td>\n      <td>Online</td>\n      <td>Region 30</td>\n    </tr>\n  </tbody>\n</table>\n<p>739 rows × 5 columns</p>\n</div>"
     },
     "execution_count": 72,
     "metadata": {},
     "output_type": "execute_result"
    }
   ],
   "source": [
    "df_store = pd.read_csv('Assets/data/Hackathon_DimStore_SAN_vShared.csv',header=0)\n",
    "df_store"
   ],
   "metadata": {
    "collapsed": false,
    "pycharm": {
     "name": "#%%\n"
    }
   }
  },
  {
   "cell_type": "code",
   "execution_count": 73,
   "outputs": [
    {
     "data": {
      "text/plain": "StoreKey                int64\nDistributionChannel    object\nStoreType              object\nRegion_Lvl1            object\nRegion_Lvl2            object\ndtype: object"
     },
     "execution_count": 73,
     "metadata": {},
     "output_type": "execute_result"
    }
   ],
   "source": [
    "df_store.dtypes"
   ],
   "metadata": {
    "collapsed": false,
    "pycharm": {
     "name": "#%%\n"
    }
   }
  },
  {
   "cell_type": "code",
   "execution_count": 74,
   "outputs": [
    {
     "data": {
      "text/plain": "array(['Physical', 'Online'], dtype=object)"
     },
     "execution_count": 74,
     "metadata": {},
     "output_type": "execute_result"
    }
   ],
   "source": [
    "df_store.DistributionChannel.unique()"
   ],
   "metadata": {
    "collapsed": false,
    "pycharm": {
     "name": "#%%\n"
    }
   }
  },
  {
   "cell_type": "code",
   "execution_count": 75,
   "outputs": [
    {
     "data": {
      "text/plain": "array(['Store Type B', 'Store Type E', 'Store Type D', 'Store Type A',\n       'Store Type C', 'Store Type G', 'Other', 'Store Type F',\n       'Store Type K', 'Store Type J', 'Store Type I', 'Store Type H'],\n      dtype=object)"
     },
     "execution_count": 75,
     "metadata": {},
     "output_type": "execute_result"
    }
   ],
   "source": [
    "df_store.StoreType.unique()"
   ],
   "metadata": {
    "collapsed": false,
    "pycharm": {
     "name": "#%%\n"
    }
   }
  },
  {
   "cell_type": "code",
   "execution_count": 76,
   "outputs": [
    {
     "data": {
      "text/plain": "array(['RegionA', 'RegionB', 'Online'], dtype=object)"
     },
     "execution_count": 76,
     "metadata": {},
     "output_type": "execute_result"
    }
   ],
   "source": [
    "df_store.Region_Lvl1.unique()"
   ],
   "metadata": {
    "collapsed": false,
    "pycharm": {
     "name": "#%%\n"
    }
   }
  },
  {
   "cell_type": "code",
   "execution_count": 77,
   "outputs": [
    {
     "data": {
      "text/plain": "array(['Region 34', 'Region 2', 'Region 10', 'Region 123', 'Region 179',\n       'Region 39', 'Region 158', 'Region 88', 'Region 7', 'Region 117',\n       'Region 12', 'Region 114', 'Region 11', 'Region 55', 'Region 30',\n       'Region 72', 'Region 217', 'Region 105', 'Region 6', 'Region 146',\n       'Region 61', 'Region 44', 'Region 133', 'Region 51', 'Region 210',\n       'Region 69', 'Region 106', 'Region 118', 'Region 208', 'Region 60',\n       'Region 3', 'Region 35', 'Region 80', 'Region 74', 'Region 36',\n       'Region 18', 'Region 161', 'Region 96', 'Region 174', 'Region 38',\n       'Region 68', 'Region 153', 'Region 65', 'Region 8', 'Region 42',\n       'Region 185', 'Region 20', 'Region 159', 'Region 99', 'Region 28',\n       'Region 157', 'Unknown', 'Region 199', 'Region 98', 'Region 122',\n       'Region 4', 'Region 173', 'Region 120', 'Region 186', 'Region 33',\n       'Region 64', 'Region 125', 'Region 9', 'Region 67', 'Region 31',\n       'Region 17', 'Region 21', 'Region 211', 'Region 56', 'Region 162',\n       'Region 137', 'Region 53', 'Region 103', 'Region 140',\n       'Region 119', 'Region 22', 'Region 26', 'Region 107', 'Region 109',\n       'Region 92', 'Region 156', 'Region 113', 'Region 40', 'Region 85',\n       'Region 37', 'Region 27', 'Region 168', 'Region 136', 'Region 142',\n       'Region 204', 'Region 138', 'Region 50', 'Region 57', 'Region 41',\n       'Region 15', 'Region 90', 'Region 196', 'Region 110', 'Region 220',\n       'Region 62', 'Region 58', 'Region 52', 'Region 32', 'Region 46',\n       'Region 152', 'Region 135', 'Region 148', 'Region 100',\n       'Region 197', 'Region 132', 'Region 127', 'Region 192',\n       'Region 78', 'Region 151', 'Region 160', 'Region 23', 'Region 79',\n       'Region 164', 'Region 54', 'Region 145', 'Region 219', 'Region 86',\n       'Region 201', 'Region 215', 'Region 43', 'Region 206',\n       'Region 169', 'Region 77', 'Region 71', 'Region 171', 'Region 24',\n       'Region 121', 'Region 150', 'Region 188', 'Region 82',\n       'Region 187', 'Region 221', 'Region 97', 'Region 180',\n       'Region 216', 'Region 94', 'Region 154', 'Region 124', 'Region 13',\n       'Region 165', 'Region 104', 'Region 147', 'Region 102',\n       'Region 126', 'Region 155', 'Region 75', 'Region 175', 'Region 49',\n       'Region 89', 'Region 200', 'Region 111', 'Region 81', 'Region 212',\n       'Region 130', 'Region 14', 'Region 84', 'Region 167', 'Region 177',\n       'Region 47', 'Region 207', 'Region 139', 'Region 205', 'Region 70',\n       'Region 87', 'Region 129', 'Region 149', 'Region 190', 'Region 63',\n       'Region 172', 'Region 163', 'Region 5', 'Region 202', 'Region 170',\n       'Region 181', 'Region 193', 'Region 213', 'Region 166',\n       'Region 73', 'Region 1', 'Region 101', 'Region 16', 'Region 59',\n       'Region 95', 'Region 194', 'Region 76', 'Region 19', 'Region 176',\n       'Region 214', 'Region 25', 'Region 134', 'Region 131', 'Region 91',\n       'Region 128', 'Region 191', 'Region 189', 'Region 203',\n       'Region 178', 'Region 195', 'Region 182', 'Region 66',\n       'Region 218', 'Region 45', 'Region 93', 'Region 198', 'Region 108',\n       'Region 183', 'Region 115', 'Region 209', 'Region 29',\n       'Region 143', 'Region 116', 'Region 83', 'Region 184',\n       'Region 144', 'Region 48', 'Region 141', 'Region 112'],\n      dtype=object)"
     },
     "execution_count": 77,
     "metadata": {},
     "output_type": "execute_result"
    }
   ],
   "source": [
    "df_store.Region_Lvl2.unique()"
   ],
   "metadata": {
    "collapsed": false,
    "pycharm": {
     "name": "#%%\n"
    }
   }
  },
  {
   "cell_type": "code",
   "execution_count": null,
   "outputs": [],
   "source": [],
   "metadata": {
    "collapsed": false,
    "pycharm": {
     "name": "#%%\n"
    }
   }
  },
  {
   "cell_type": "markdown",
   "source": [
    "# checking the null values"
   ],
   "metadata": {
    "collapsed": false,
    "pycharm": {
     "name": "#%% md\n"
    }
   }
  },
  {
   "cell_type": "code",
   "execution_count": 78,
   "outputs": [
    {
     "name": "stdout",
     "output_type": "stream",
     "text": [
      "StoreKey               0\n",
      "DistributionChannel    0\n",
      "StoreType              0\n",
      "Region_Lvl1            0\n",
      "Region_Lvl2            0\n",
      "dtype: int64\n"
     ]
    }
   ],
   "source": [
    "print(df_store.isnull().sum())"
   ],
   "metadata": {
    "collapsed": false,
    "pycharm": {
     "name": "#%%\n"
    }
   }
  },
  {
   "cell_type": "code",
   "execution_count": 79,
   "outputs": [
    {
     "name": "stdout",
     "output_type": "stream",
     "text": [
      "PromotionKey          0\n",
      "PromoMechanic         0\n",
      "PromotionStartDate    0\n",
      "PromotionEndDate      0\n",
      "dtype: int64\n"
     ]
    }
   ],
   "source": [
    "print(df_promotion.isnull().sum())"
   ],
   "metadata": {
    "collapsed": false,
    "pycharm": {
     "name": "#%%\n"
    }
   }
  },
  {
   "cell_type": "code",
   "execution_count": 80,
   "outputs": [
    {
     "name": "stdout",
     "output_type": "stream",
     "text": [
      "ProductKey              0\n",
      "BrandKey                0\n",
      "SupplierKey             0\n",
      "ProductCategory_Lvl1    0\n",
      "ProductCategory_Lvl2    0\n",
      "dtype: int64\n"
     ]
    }
   ],
   "source": [
    "print(df_product_clean.isnull().sum())"
   ],
   "metadata": {
    "collapsed": false,
    "pycharm": {
     "name": "#%%\n"
    }
   }
  },
  {
   "cell_type": "code",
   "execution_count": null,
   "outputs": [],
   "source": [
    "import numpy as np\n",
    "from nltk.corpus import stopwords\n",
    "import spacy\n",
    "nlp = spacy.load('it_core_news_sm')\n",
    "import string\n",
    "import re\n",
    "import gensim\n",
    "from gensim.utils import simple_preprocess\n",
    "class preprocess_pip():\n",
    "    def __init__(self,df ,column_name):\n",
    "        self.df = df\n",
    "        self.old_text = column_name\n",
    "        self.text = column_name+'_clean'\n",
    "\n",
    "    def apply_preprocessing(self):\n",
    "#         self.df[self.text] =  self.df[self.old_text].astype('string')\n",
    "        self.df[self.text] = self.df[self.old_text].apply(self.na_filter)\n",
    "        self.df.dropna(subset=[self.text],inplace=True)\n",
    "        self.df[self.text] = self.df[self.text].apply(self.remove_punctuations)\n",
    "        self.df[self.text] = self.df[self.text].apply(self.to_lower)\n",
    "        self.df[self.text] = self.df[self.text].apply(self.stop_word_elm)\n",
    "        self.df[self.text] = self.df[self.text].apply(self.deEmojify)\n",
    "        self.df[self.text] = self.df[self.text].apply(self.na_filter)\n",
    "        self.df.dropna(axis=0, how='any',subset=[self.text])\n",
    "#         self.df.drop('index',axis=1,inplace=True)\n",
    "        self.df.reset_index(inplace=True)\n",
    "        self.df.drop('index',axis=1,inplace=True)\n",
    "        self.df[self.text].replace(\"[0-9,€$-;\\'\\\"]\", '', regex=True,inplace=True)\n",
    "        self.df.dropna(subset=[self.text],inplace=True)\n",
    "        self.df=self.df[self.df[self.text]!='']\n",
    "\n",
    "\n",
    "    def na_filter(self, text):\n",
    "        if len(text)>0:\n",
    "            return text\n",
    "        return\n",
    "\n",
    "    def remove_punctuations(self, text):\n",
    "        text=str(text)\n",
    "        for punctuation in string.punctuation:\n",
    "            text = text.replace(punctuation, '')\n",
    "        return text\n",
    "\n",
    "    def to_lower(self, text):\n",
    "        return text.lower()\n",
    "\n",
    "    def stop_word_elm(self, text):\n",
    "        new_text=[]\n",
    "        for i in text.split():\n",
    "            if i not in italian_stopwords:\n",
    "                new_text.append(i)\n",
    "        return ' '.join(new_text)\n",
    "\n",
    "    def deEmojify(self, text):\n",
    "        regrex_pattern = re.compile(pattern = \"[\"\n",
    "            u\"\\U0001F600-\\U0001F64F\"  # emoticons\n",
    "            \"🤮\"\n",
    "            \"🤬\"\n",
    "            u\"\\U0001F300-\\U0001F5FF\"  # symbols & pictographs\n",
    "            u\"\\U0001F680-\\U0001F6FF\"  # transport & map symbols\n",
    "            u\"\\U0001F1E0-\\U0001F1FF\"  # flags (iOS)\n",
    "                               \"]+\", flags = re.UNICODE)\n",
    "        return regrex_pattern.sub(r'',text)\n",
    "\n",
    "    def sent_to_words(self, text):\n",
    "        for sentence in text:\n",
    "            yield(gensim.utils.simple_preprocess(str(sentence), deacc=True))  # deacc=True removes punctuations"
   ],
   "metadata": {
    "collapsed": false,
    "pycharm": {
     "name": "#%%\n"
    }
   }
  }
 ],
 "metadata": {
  "kernelspec": {
   "display_name": "Python 3",
   "language": "python",
   "name": "python3"
  },
  "language_info": {
   "codemirror_mode": {
    "name": "ipython",
    "version": 2
   },
   "file_extension": ".py",
   "mimetype": "text/x-python",
   "name": "python",
   "nbconvert_exporter": "python",
   "pygments_lexer": "ipython2",
   "version": "2.7.6"
  }
 },
 "nbformat": 4,
 "nbformat_minor": 0
}