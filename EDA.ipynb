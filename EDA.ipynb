{
 "cells": [
  {
   "cell_type": "code",
   "execution_count": 2,
   "outputs": [],
   "source": [
    "import pandas as pd\n",
    "import numpy as np"
   ],
   "metadata": {
    "collapsed": false,
    "pycharm": {
     "name": "#%%\n"
    }
   }
  },
  {
   "cell_type": "code",
   "execution_count": 98,
   "outputs": [
    {
     "data": {
      "text/plain": "    ProductKey  BrandKey  SupplierKey ProductCategory_Lvl1  \\\n0    key_52138      3521   1039040101           Category A   \n1        19864      3521   1039040125           Category A   \n2        95144      1713   1049688101           Category A   \n3        23070      3521   1050235101           Category A   \n4        93165      3521   1039040125           Category A   \n..         ...       ...          ...                  ...   \n293      12353      3521   1036290101           Category A   \n294      55442       132   1036290101           Category A   \n295      78206      3521   1039040101           Category A   \n296      55438       132   1036290101           Category A   \n297  key_96971      3521   1036290101           Category A   \n\n    ProductCategory_Lvl2  \n0            category aa  \n1            Category AC  \n2            Category AA  \n3            Category AC  \n4            Category AC  \n..                   ...  \n293          Category AB  \n294          Category AC  \n295          Category AC  \n296          Category AB  \n297          Category AA  \n\n[298 rows x 5 columns]",
      "text/html": "<div>\n<style scoped>\n    .dataframe tbody tr th:only-of-type {\n        vertical-align: middle;\n    }\n\n    .dataframe tbody tr th {\n        vertical-align: top;\n    }\n\n    .dataframe thead th {\n        text-align: right;\n    }\n</style>\n<table border=\"1\" class=\"dataframe\">\n  <thead>\n    <tr style=\"text-align: right;\">\n      <th></th>\n      <th>ProductKey</th>\n      <th>BrandKey</th>\n      <th>SupplierKey</th>\n      <th>ProductCategory_Lvl1</th>\n      <th>ProductCategory_Lvl2</th>\n    </tr>\n  </thead>\n  <tbody>\n    <tr>\n      <th>0</th>\n      <td>key_52138</td>\n      <td>3521</td>\n      <td>1039040101</td>\n      <td>Category A</td>\n      <td>category aa</td>\n    </tr>\n    <tr>\n      <th>1</th>\n      <td>19864</td>\n      <td>3521</td>\n      <td>1039040125</td>\n      <td>Category A</td>\n      <td>Category AC</td>\n    </tr>\n    <tr>\n      <th>2</th>\n      <td>95144</td>\n      <td>1713</td>\n      <td>1049688101</td>\n      <td>Category A</td>\n      <td>Category AA</td>\n    </tr>\n    <tr>\n      <th>3</th>\n      <td>23070</td>\n      <td>3521</td>\n      <td>1050235101</td>\n      <td>Category A</td>\n      <td>Category AC</td>\n    </tr>\n    <tr>\n      <th>4</th>\n      <td>93165</td>\n      <td>3521</td>\n      <td>1039040125</td>\n      <td>Category A</td>\n      <td>Category AC</td>\n    </tr>\n    <tr>\n      <th>...</th>\n      <td>...</td>\n      <td>...</td>\n      <td>...</td>\n      <td>...</td>\n      <td>...</td>\n    </tr>\n    <tr>\n      <th>293</th>\n      <td>12353</td>\n      <td>3521</td>\n      <td>1036290101</td>\n      <td>Category A</td>\n      <td>Category AB</td>\n    </tr>\n    <tr>\n      <th>294</th>\n      <td>55442</td>\n      <td>132</td>\n      <td>1036290101</td>\n      <td>Category A</td>\n      <td>Category AC</td>\n    </tr>\n    <tr>\n      <th>295</th>\n      <td>78206</td>\n      <td>3521</td>\n      <td>1039040101</td>\n      <td>Category A</td>\n      <td>Category AC</td>\n    </tr>\n    <tr>\n      <th>296</th>\n      <td>55438</td>\n      <td>132</td>\n      <td>1036290101</td>\n      <td>Category A</td>\n      <td>Category AB</td>\n    </tr>\n    <tr>\n      <th>297</th>\n      <td>key_96971</td>\n      <td>3521</td>\n      <td>1036290101</td>\n      <td>Category A</td>\n      <td>Category AA</td>\n    </tr>\n  </tbody>\n</table>\n<p>298 rows × 5 columns</p>\n</div>"
     },
     "execution_count": 98,
     "metadata": {},
     "output_type": "execute_result"
    }
   ],
   "source": [
    "df_product = pd.read_csv('Assets/data/Hackathon_DimProduct_SAN_vShared.csv',header=0)\n",
    "df_product"
   ],
   "metadata": {
    "collapsed": false,
    "pycharm": {
     "name": "#%%\n"
    }
   }
  },
  {
   "cell_type": "code",
   "execution_count": 44,
   "outputs": [
    {
     "data": {
      "text/plain": "ProductKey              object\nBrandKey                 int64\nSupplierKey              int64\nProductCategory_Lvl1    object\nProductCategory_Lvl2    object\ndtype: object"
     },
     "execution_count": 44,
     "metadata": {},
     "output_type": "execute_result"
    }
   ],
   "source": [
    "df_product.dtypes"
   ],
   "metadata": {
    "collapsed": false,
    "pycharm": {
     "name": "#%%\n"
    }
   }
  },
  {
   "cell_type": "code",
   "execution_count": 108,
   "outputs": [],
   "source": [
    "import string\n",
    "import re\n",
    "\n",
    "def remove_punctuations(ts):\n",
    "    '''Takes a word and removes all punctuations.\n",
    "     :parameter\n",
    "     ts: str\n",
    "        the word to be cleaned\n",
    "    :returns\n",
    "    -----\n",
    "    str\n",
    "        the cleaned version\n",
    "      '''\n",
    "    ts=str(ts)\n",
    "    for punctuation in string.punctuation:\n",
    "        ts = ts.replace(punctuation, '')\n",
    "    return ts\n",
    "\n",
    "def remove_non_numbers(ts):\n",
    "    '''Takes a word and removes all non-digit characters.\n",
    "     :parameter\n",
    "     ts: str\n",
    "        the word to be cleaned\n",
    "    :returns\n",
    "    -----\n",
    "    str\n",
    "        the cleaned version\n",
    "      '''\n",
    "    return int(re.sub('[^0-9.]', '',str(ts)))\n",
    "\n",
    "def na_filter(ts):\n",
    "    if len(ts)>0:\n",
    "        return ts\n",
    "    return\n",
    "\n",
    "def name_corrector(ts):\n",
    "    '''Takes a word and removes all whitespaces, transforms it to lowercase,\n",
    "     and connects the words using '_'. Also checks for misspelling.\n",
    "     :parameter\n",
    "     ts: str\n",
    "        the word to be corrected\n",
    "    :returns\n",
    "    -----\n",
    "    str\n",
    "        the corrected version\n",
    "      '''\n",
    "    return re.sub('categrory','category','_'.join(re.sub(' +',' ',ts).lower().split(' ')))"
   ],
   "metadata": {
    "collapsed": false,
    "pycharm": {
     "name": "#%%\n"
    }
   }
  },
  {
   "cell_type": "code",
   "execution_count": 45,
   "outputs": [
    {
     "data": {
      "text/plain": "Index(['ProductKey', 'BrandKey', 'SupplierKey', 'ProductCategory_Lvl1',\n       'ProductCategory_Lvl2'],\n      dtype='object')"
     },
     "execution_count": 45,
     "metadata": {},
     "output_type": "execute_result"
    }
   ],
   "source": [
    "df_product.columns"
   ],
   "metadata": {
    "collapsed": false,
    "pycharm": {
     "name": "#%%\n"
    }
   }
  },
  {
   "cell_type": "code",
   "execution_count": 109,
   "outputs": [],
   "source": [
    "df_product_clean = df_product.copy()\n",
    "for col in ['ProductKey', 'BrandKey', 'SupplierKey']:\n",
    "    df_product_clean[col] = df_product[col].apply(remove_punctuations)\n",
    "    df_product_clean[col] = df_product[col].apply(remove_non_numbers)\n",
    "\n",
    "for col in ['ProductCategory_Lvl1','ProductCategory_Lvl2']:\n",
    "    df_product_clean[col]= df_product[col].apply(remove_punctuations)\n",
    "    df_product_clean[col] = df_product[col].apply(name_corrector)\n"
   ],
   "metadata": {
    "collapsed": false,
    "pycharm": {
     "name": "#%%\n"
    }
   }
  },
  {
   "cell_type": "code",
   "execution_count": 68,
   "outputs": [
    {
     "data": {
      "text/plain": "      PromotionKey            PromoMechanic PromotionStartDate  \\\n0            312237          Percentage off          10/1/2021   \n1            265157           Buy $X for Y%          2/25/2020   \n2            270553           Buy $X for $Y          1/15/2020   \n3            308082  X units for $Y (X = 1)          3/10/2021   \n4            317323                     PWP          5/13/2022   \n...             ...                     ...                ...   \n3426         297974  X units for $Y (X = 1)           1/1/2022   \n3427         339287           Buy $X for $Y         12/12/2021   \n3428         263837  X units for $Y (X = 1)          2/27/2020   \n3429         375529  X units for $Y (X > 1)         11/16/2022   \n3430         352362  X units for $Y (X > 1)          1/18/2020   \n\n     PromotionEndDate  \n0           10/6/2021  \n1           2/25/2020  \n2           1/27/2020  \n3           3/29/2021  \n4            7/6/2022  \n...               ...  \n3426        6/30/2022  \n3427       12/12/2021  \n3428        3/30/2020  \n3429         1/2/2023  \n3430         3/4/2020  \n\n[3431 rows x 4 columns]",
      "text/html": "<div>\n<style scoped>\n    .dataframe tbody tr th:only-of-type {\n        vertical-align: middle;\n    }\n\n    .dataframe tbody tr th {\n        vertical-align: top;\n    }\n\n    .dataframe thead th {\n        text-align: right;\n    }\n</style>\n<table border=\"1\" class=\"dataframe\">\n  <thead>\n    <tr style=\"text-align: right;\">\n      <th></th>\n      <th>PromotionKey</th>\n      <th>PromoMechanic</th>\n      <th>PromotionStartDate</th>\n      <th>PromotionEndDate</th>\n    </tr>\n  </thead>\n  <tbody>\n    <tr>\n      <th>0</th>\n      <td>312237</td>\n      <td>Percentage off</td>\n      <td>10/1/2021</td>\n      <td>10/6/2021</td>\n    </tr>\n    <tr>\n      <th>1</th>\n      <td>265157</td>\n      <td>Buy $X for Y%</td>\n      <td>2/25/2020</td>\n      <td>2/25/2020</td>\n    </tr>\n    <tr>\n      <th>2</th>\n      <td>270553</td>\n      <td>Buy $X for $Y</td>\n      <td>1/15/2020</td>\n      <td>1/27/2020</td>\n    </tr>\n    <tr>\n      <th>3</th>\n      <td>308082</td>\n      <td>X units for $Y (X = 1)</td>\n      <td>3/10/2021</td>\n      <td>3/29/2021</td>\n    </tr>\n    <tr>\n      <th>4</th>\n      <td>317323</td>\n      <td>PWP</td>\n      <td>5/13/2022</td>\n      <td>7/6/2022</td>\n    </tr>\n    <tr>\n      <th>...</th>\n      <td>...</td>\n      <td>...</td>\n      <td>...</td>\n      <td>...</td>\n    </tr>\n    <tr>\n      <th>3426</th>\n      <td>297974</td>\n      <td>X units for $Y (X = 1)</td>\n      <td>1/1/2022</td>\n      <td>6/30/2022</td>\n    </tr>\n    <tr>\n      <th>3427</th>\n      <td>339287</td>\n      <td>Buy $X for $Y</td>\n      <td>12/12/2021</td>\n      <td>12/12/2021</td>\n    </tr>\n    <tr>\n      <th>3428</th>\n      <td>263837</td>\n      <td>X units for $Y (X = 1)</td>\n      <td>2/27/2020</td>\n      <td>3/30/2020</td>\n    </tr>\n    <tr>\n      <th>3429</th>\n      <td>375529</td>\n      <td>X units for $Y (X &gt; 1)</td>\n      <td>11/16/2022</td>\n      <td>1/2/2023</td>\n    </tr>\n    <tr>\n      <th>3430</th>\n      <td>352362</td>\n      <td>X units for $Y (X &gt; 1)</td>\n      <td>1/18/2020</td>\n      <td>3/4/2020</td>\n    </tr>\n  </tbody>\n</table>\n<p>3431 rows × 4 columns</p>\n</div>"
     },
     "execution_count": 68,
     "metadata": {},
     "output_type": "execute_result"
    }
   ],
   "source": [
    "df_promotion = pd.read_csv('Assets/data/Hackathon_DimPromotion_SAN_vShared.csv',header=0)\n",
    "df_promotion"
   ],
   "metadata": {
    "collapsed": false,
    "pycharm": {
     "name": "#%%\n"
    }
   }
  },
  {
   "cell_type": "code",
   "execution_count": 61,
   "outputs": [
    {
     "data": {
      "text/plain": "PromotionKey           int64\nPromoMechanic         object\nPromotionStartDate    object\nPromotionEndDate      object\ndtype: object"
     },
     "execution_count": 61,
     "metadata": {},
     "output_type": "execute_result"
    }
   ],
   "source": [
    "df_promotion.dtypes"
   ],
   "metadata": {
    "collapsed": false,
    "pycharm": {
     "name": "#%%\n"
    }
   }
  },
  {
   "cell_type": "code",
   "execution_count": 69,
   "outputs": [],
   "source": [
    "df_promotion.PromotionStartDate = df_promotion.PromotionStartDate.astype('datetime64[ns]')\n",
    "df_promotion.PromotionEndDate = df_promotion.PromotionEndDate.astype('datetime64[ns]')"
   ],
   "metadata": {
    "collapsed": false,
    "pycharm": {
     "name": "#%%\n"
    }
   }
  },
  {
   "cell_type": "code",
   "execution_count": 70,
   "outputs": [
    {
     "data": {
      "text/plain": "PromotionKey                   int64\nPromoMechanic                 object\nPromotionStartDate    datetime64[ns]\nPromotionEndDate      datetime64[ns]\ndtype: object"
     },
     "execution_count": 70,
     "metadata": {},
     "output_type": "execute_result"
    }
   ],
   "source": [
    "df_promotion.dtypes"
   ],
   "metadata": {
    "collapsed": false,
    "pycharm": {
     "name": "#%%\n"
    }
   }
  },
  {
   "cell_type": "code",
   "execution_count": 72,
   "outputs": [
    {
     "data": {
      "text/plain": "     StoreKey DistributionChannel     StoreType Region_Lvl1 Region_Lvl2\n0         559            Physical  Store Type B     RegionA   Region 34\n1         168            Physical  Store Type B     RegionA    Region 2\n2        2061            Physical  Store Type E     RegionA   Region 10\n3         590            Physical  Store Type D     RegionA    Region 2\n4         301            Physical  Store Type B     RegionA  Region 123\n..        ...                 ...           ...         ...         ...\n734       463            Physical  Store Type B     RegionB  Region 141\n735         4            Physical  Store Type C     RegionA    Region 4\n736       280            Physical  Store Type D     RegionB   Region 39\n737       688            Physical  Store Type G     RegionA  Region 112\n738       892              Online  Store Type H      Online   Region 30\n\n[739 rows x 5 columns]",
      "text/html": "<div>\n<style scoped>\n    .dataframe tbody tr th:only-of-type {\n        vertical-align: middle;\n    }\n\n    .dataframe tbody tr th {\n        vertical-align: top;\n    }\n\n    .dataframe thead th {\n        text-align: right;\n    }\n</style>\n<table border=\"1\" class=\"dataframe\">\n  <thead>\n    <tr style=\"text-align: right;\">\n      <th></th>\n      <th>StoreKey</th>\n      <th>DistributionChannel</th>\n      <th>StoreType</th>\n      <th>Region_Lvl1</th>\n      <th>Region_Lvl2</th>\n    </tr>\n  </thead>\n  <tbody>\n    <tr>\n      <th>0</th>\n      <td>559</td>\n      <td>Physical</td>\n      <td>Store Type B</td>\n      <td>RegionA</td>\n      <td>Region 34</td>\n    </tr>\n    <tr>\n      <th>1</th>\n      <td>168</td>\n      <td>Physical</td>\n      <td>Store Type B</td>\n      <td>RegionA</td>\n      <td>Region 2</td>\n    </tr>\n    <tr>\n      <th>2</th>\n      <td>2061</td>\n      <td>Physical</td>\n      <td>Store Type E</td>\n      <td>RegionA</td>\n      <td>Region 10</td>\n    </tr>\n    <tr>\n      <th>3</th>\n      <td>590</td>\n      <td>Physical</td>\n      <td>Store Type D</td>\n      <td>RegionA</td>\n      <td>Region 2</td>\n    </tr>\n    <tr>\n      <th>4</th>\n      <td>301</td>\n      <td>Physical</td>\n      <td>Store Type B</td>\n      <td>RegionA</td>\n      <td>Region 123</td>\n    </tr>\n    <tr>\n      <th>...</th>\n      <td>...</td>\n      <td>...</td>\n      <td>...</td>\n      <td>...</td>\n      <td>...</td>\n    </tr>\n    <tr>\n      <th>734</th>\n      <td>463</td>\n      <td>Physical</td>\n      <td>Store Type B</td>\n      <td>RegionB</td>\n      <td>Region 141</td>\n    </tr>\n    <tr>\n      <th>735</th>\n      <td>4</td>\n      <td>Physical</td>\n      <td>Store Type C</td>\n      <td>RegionA</td>\n      <td>Region 4</td>\n    </tr>\n    <tr>\n      <th>736</th>\n      <td>280</td>\n      <td>Physical</td>\n      <td>Store Type D</td>\n      <td>RegionB</td>\n      <td>Region 39</td>\n    </tr>\n    <tr>\n      <th>737</th>\n      <td>688</td>\n      <td>Physical</td>\n      <td>Store Type G</td>\n      <td>RegionA</td>\n      <td>Region 112</td>\n    </tr>\n    <tr>\n      <th>738</th>\n      <td>892</td>\n      <td>Online</td>\n      <td>Store Type H</td>\n      <td>Online</td>\n      <td>Region 30</td>\n    </tr>\n  </tbody>\n</table>\n<p>739 rows × 5 columns</p>\n</div>"
     },
     "execution_count": 72,
     "metadata": {},
     "output_type": "execute_result"
    }
   ],
   "source": [
    "df_store = pd.read_csv('Assets/data/Hackathon_DimStore_SAN_vShared.csv',header=0)\n",
    "df_store"
   ],
   "metadata": {
    "collapsed": false,
    "pycharm": {
     "name": "#%%\n"
    }
   }
  },
  {
   "cell_type": "code",
   "execution_count": 73,
   "outputs": [
    {
     "data": {
      "text/plain": "StoreKey                int64\nDistributionChannel    object\nStoreType              object\nRegion_Lvl1            object\nRegion_Lvl2            object\ndtype: object"
     },
     "execution_count": 73,
     "metadata": {},
     "output_type": "execute_result"
    }
   ],
   "source": [
    "df_store.dtypes"
   ],
   "metadata": {
    "collapsed": false,
    "pycharm": {
     "name": "#%%\n"
    }
   }
  },
  {
   "cell_type": "code",
   "execution_count": 74,
   "outputs": [
    {
     "data": {
      "text/plain": "array(['Physical', 'Online'], dtype=object)"
     },
     "execution_count": 74,
     "metadata": {},
     "output_type": "execute_result"
    }
   ],
   "source": [
    "df_store.DistributionChannel.unique()"
   ],
   "metadata": {
    "collapsed": false,
    "pycharm": {
     "name": "#%%\n"
    }
   }
  },
  {
   "cell_type": "code",
   "execution_count": 75,
   "outputs": [
    {
     "data": {
      "text/plain": "array(['Store Type B', 'Store Type E', 'Store Type D', 'Store Type A',\n       'Store Type C', 'Store Type G', 'Other', 'Store Type F',\n       'Store Type K', 'Store Type J', 'Store Type I', 'Store Type H'],\n      dtype=object)"
     },
     "execution_count": 75,
     "metadata": {},
     "output_type": "execute_result"
    }
   ],
   "source": [
    "df_store.StoreType.unique()"
   ],
   "metadata": {
    "collapsed": false,
    "pycharm": {
     "name": "#%%\n"
    }
   }
  },
  {
   "cell_type": "code",
   "execution_count": 76,
   "outputs": [
    {
     "data": {
      "text/plain": "array(['RegionA', 'RegionB', 'Online'], dtype=object)"
     },
     "execution_count": 76,
     "metadata": {},
     "output_type": "execute_result"
    }
   ],
   "source": [
    "df_store.Region_Lvl1.unique()"
   ],
   "metadata": {
    "collapsed": false,
    "pycharm": {
     "name": "#%%\n"
    }
   }
  },
  {
   "cell_type": "code",
   "execution_count": 77,
   "outputs": [
    {
     "data": {
      "text/plain": "array(['Region 34', 'Region 2', 'Region 10', 'Region 123', 'Region 179',\n       'Region 39', 'Region 158', 'Region 88', 'Region 7', 'Region 117',\n       'Region 12', 'Region 114', 'Region 11', 'Region 55', 'Region 30',\n       'Region 72', 'Region 217', 'Region 105', 'Region 6', 'Region 146',\n       'Region 61', 'Region 44', 'Region 133', 'Region 51', 'Region 210',\n       'Region 69', 'Region 106', 'Region 118', 'Region 208', 'Region 60',\n       'Region 3', 'Region 35', 'Region 80', 'Region 74', 'Region 36',\n       'Region 18', 'Region 161', 'Region 96', 'Region 174', 'Region 38',\n       'Region 68', 'Region 153', 'Region 65', 'Region 8', 'Region 42',\n       'Region 185', 'Region 20', 'Region 159', 'Region 99', 'Region 28',\n       'Region 157', 'Unknown', 'Region 199', 'Region 98', 'Region 122',\n       'Region 4', 'Region 173', 'Region 120', 'Region 186', 'Region 33',\n       'Region 64', 'Region 125', 'Region 9', 'Region 67', 'Region 31',\n       'Region 17', 'Region 21', 'Region 211', 'Region 56', 'Region 162',\n       'Region 137', 'Region 53', 'Region 103', 'Region 140',\n       'Region 119', 'Region 22', 'Region 26', 'Region 107', 'Region 109',\n       'Region 92', 'Region 156', 'Region 113', 'Region 40', 'Region 85',\n       'Region 37', 'Region 27', 'Region 168', 'Region 136', 'Region 142',\n       'Region 204', 'Region 138', 'Region 50', 'Region 57', 'Region 41',\n       'Region 15', 'Region 90', 'Region 196', 'Region 110', 'Region 220',\n       'Region 62', 'Region 58', 'Region 52', 'Region 32', 'Region 46',\n       'Region 152', 'Region 135', 'Region 148', 'Region 100',\n       'Region 197', 'Region 132', 'Region 127', 'Region 192',\n       'Region 78', 'Region 151', 'Region 160', 'Region 23', 'Region 79',\n       'Region 164', 'Region 54', 'Region 145', 'Region 219', 'Region 86',\n       'Region 201', 'Region 215', 'Region 43', 'Region 206',\n       'Region 169', 'Region 77', 'Region 71', 'Region 171', 'Region 24',\n       'Region 121', 'Region 150', 'Region 188', 'Region 82',\n       'Region 187', 'Region 221', 'Region 97', 'Region 180',\n       'Region 216', 'Region 94', 'Region 154', 'Region 124', 'Region 13',\n       'Region 165', 'Region 104', 'Region 147', 'Region 102',\n       'Region 126', 'Region 155', 'Region 75', 'Region 175', 'Region 49',\n       'Region 89', 'Region 200', 'Region 111', 'Region 81', 'Region 212',\n       'Region 130', 'Region 14', 'Region 84', 'Region 167', 'Region 177',\n       'Region 47', 'Region 207', 'Region 139', 'Region 205', 'Region 70',\n       'Region 87', 'Region 129', 'Region 149', 'Region 190', 'Region 63',\n       'Region 172', 'Region 163', 'Region 5', 'Region 202', 'Region 170',\n       'Region 181', 'Region 193', 'Region 213', 'Region 166',\n       'Region 73', 'Region 1', 'Region 101', 'Region 16', 'Region 59',\n       'Region 95', 'Region 194', 'Region 76', 'Region 19', 'Region 176',\n       'Region 214', 'Region 25', 'Region 134', 'Region 131', 'Region 91',\n       'Region 128', 'Region 191', 'Region 189', 'Region 203',\n       'Region 178', 'Region 195', 'Region 182', 'Region 66',\n       'Region 218', 'Region 45', 'Region 93', 'Region 198', 'Region 108',\n       'Region 183', 'Region 115', 'Region 209', 'Region 29',\n       'Region 143', 'Region 116', 'Region 83', 'Region 184',\n       'Region 144', 'Region 48', 'Region 141', 'Region 112'],\n      dtype=object)"
     },
     "execution_count": 77,
     "metadata": {},
     "output_type": "execute_result"
    }
   ],
   "source": [
    "df_store.Region_Lvl2.unique()"
   ],
   "metadata": {
    "collapsed": false,
    "pycharm": {
     "name": "#%%\n"
    }
   }
  },
  {
   "cell_type": "code",
   "execution_count": null,
   "outputs": [],
   "source": [],
   "metadata": {
    "collapsed": false,
    "pycharm": {
     "name": "#%%\n"
    }
   }
  },
  {
   "cell_type": "markdown",
   "source": [
    "# checking the null values"
   ],
   "metadata": {
    "collapsed": false,
    "pycharm": {
     "name": "#%% md\n"
    }
   }
  },
  {
   "cell_type": "code",
   "execution_count": 104,
   "outputs": [
    {
     "name": "stdout",
     "output_type": "stream",
     "text": [
      "StoreKey               0\n",
      "DistributionChannel    0\n",
      "StoreType              0\n",
      "Region_Lvl1            0\n",
      "Region_Lvl2            0\n",
      "dtype: int64\n"
     ]
    }
   ],
   "source": [
    "print(df_store.isnull().sum())"
   ],
   "metadata": {
    "collapsed": false,
    "pycharm": {
     "name": "#%%\n"
    }
   }
  },
  {
   "cell_type": "code",
   "execution_count": 105,
   "outputs": [
    {
     "name": "stdout",
     "output_type": "stream",
     "text": [
      "PromotionKey          0\n",
      "PromoMechanic         0\n",
      "PromotionStartDate    0\n",
      "PromotionEndDate      0\n",
      "dtype: int64\n"
     ]
    }
   ],
   "source": [
    "print(df_promotion.isnull().sum())"
   ],
   "metadata": {
    "collapsed": false,
    "pycharm": {
     "name": "#%%\n"
    }
   }
  },
  {
   "cell_type": "code",
   "execution_count": 110,
   "outputs": [
    {
     "name": "stdout",
     "output_type": "stream",
     "text": [
      "ProductKey              0\n",
      "BrandKey                0\n",
      "SupplierKey             0\n",
      "ProductCategory_Lvl1    0\n",
      "ProductCategory_Lvl2    0\n",
      "dtype: int64\n"
     ]
    }
   ],
   "source": [
    "print(df_product_clean.isnull().sum())"
   ],
   "metadata": {
    "collapsed": false,
    "pycharm": {
     "name": "#%%\n"
    }
   }
  },
  {
   "cell_type": "code",
   "execution_count": 111,
   "outputs": [
    {
     "data": {
      "text/plain": "     ProductKey  BrandKey  SupplierKey ProductCategory_Lvl1  \\\n0         52138      3521   1039040101           category_a   \n1         19864      3521   1039040125           category_a   \n2         95144      1713   1049688101           category_a   \n3         23070      3521   1050235101           category_a   \n4         93165      3521   1039040125           category_a   \n..          ...       ...          ...                  ...   \n293       12353      3521   1036290101           category_a   \n294       55442       132   1036290101           category_a   \n295       78206      3521   1039040101           category_a   \n296       55438       132   1036290101           category_a   \n297       96971      3521   1036290101           category_a   \n\n    ProductCategory_Lvl2  \n0            category_aa  \n1            category_ac  \n2            category_aa  \n3            category_ac  \n4            category_ac  \n..                   ...  \n293          category_ab  \n294          category_ac  \n295          category_ac  \n296          category_ab  \n297          category_aa  \n\n[298 rows x 5 columns]",
      "text/html": "<div>\n<style scoped>\n    .dataframe tbody tr th:only-of-type {\n        vertical-align: middle;\n    }\n\n    .dataframe tbody tr th {\n        vertical-align: top;\n    }\n\n    .dataframe thead th {\n        text-align: right;\n    }\n</style>\n<table border=\"1\" class=\"dataframe\">\n  <thead>\n    <tr style=\"text-align: right;\">\n      <th></th>\n      <th>ProductKey</th>\n      <th>BrandKey</th>\n      <th>SupplierKey</th>\n      <th>ProductCategory_Lvl1</th>\n      <th>ProductCategory_Lvl2</th>\n    </tr>\n  </thead>\n  <tbody>\n    <tr>\n      <th>0</th>\n      <td>52138</td>\n      <td>3521</td>\n      <td>1039040101</td>\n      <td>category_a</td>\n      <td>category_aa</td>\n    </tr>\n    <tr>\n      <th>1</th>\n      <td>19864</td>\n      <td>3521</td>\n      <td>1039040125</td>\n      <td>category_a</td>\n      <td>category_ac</td>\n    </tr>\n    <tr>\n      <th>2</th>\n      <td>95144</td>\n      <td>1713</td>\n      <td>1049688101</td>\n      <td>category_a</td>\n      <td>category_aa</td>\n    </tr>\n    <tr>\n      <th>3</th>\n      <td>23070</td>\n      <td>3521</td>\n      <td>1050235101</td>\n      <td>category_a</td>\n      <td>category_ac</td>\n    </tr>\n    <tr>\n      <th>4</th>\n      <td>93165</td>\n      <td>3521</td>\n      <td>1039040125</td>\n      <td>category_a</td>\n      <td>category_ac</td>\n    </tr>\n    <tr>\n      <th>...</th>\n      <td>...</td>\n      <td>...</td>\n      <td>...</td>\n      <td>...</td>\n      <td>...</td>\n    </tr>\n    <tr>\n      <th>293</th>\n      <td>12353</td>\n      <td>3521</td>\n      <td>1036290101</td>\n      <td>category_a</td>\n      <td>category_ab</td>\n    </tr>\n    <tr>\n      <th>294</th>\n      <td>55442</td>\n      <td>132</td>\n      <td>1036290101</td>\n      <td>category_a</td>\n      <td>category_ac</td>\n    </tr>\n    <tr>\n      <th>295</th>\n      <td>78206</td>\n      <td>3521</td>\n      <td>1039040101</td>\n      <td>category_a</td>\n      <td>category_ac</td>\n    </tr>\n    <tr>\n      <th>296</th>\n      <td>55438</td>\n      <td>132</td>\n      <td>1036290101</td>\n      <td>category_a</td>\n      <td>category_ab</td>\n    </tr>\n    <tr>\n      <th>297</th>\n      <td>96971</td>\n      <td>3521</td>\n      <td>1036290101</td>\n      <td>category_a</td>\n      <td>category_aa</td>\n    </tr>\n  </tbody>\n</table>\n<p>298 rows × 5 columns</p>\n</div>"
     },
     "execution_count": 111,
     "metadata": {},
     "output_type": "execute_result"
    }
   ],
   "source": [
    "df_product_clean"
   ],
   "metadata": {
    "collapsed": false,
    "pycharm": {
     "name": "#%%\n"
    }
   }
  },
  {
   "cell_type": "code",
   "execution_count": 82,
   "outputs": [
    {
     "data": {
      "text/plain": "  TransactionDate  DayOfWeek WeekendFlag StoreKey ProductKey  UnitVolume  \\\n0      2020-01-29  Wednesday       False      118      49334         2.0   \n1      2021-10-31     Sunday        True       78      59511         1.0   \n2      2021-06-17   Thursday       False      672      97438         1.0   \n3      2022-02-06     Sunday        True      193      58921         2.0   \n4      2022-03-29    Tuesday       False     2059      44633         1.0   \n5      2020-01-03     Friday       False      577      78564         1.0   \n6      2020-03-10    Tuesday       False      539      95144         1.0   \n7      2022-01-18    Tuesday       False      225      82315         3.0   \n8      2020-06-06   Saturday        True      579      49489         1.0   \n9      2022-08-19     Friday       False      620      49963         1.0   \n\n   ActualSales  SalesDiscount  RetailFullPrice  \n0    103.35080      -16.87360        120.22440  \n1     17.13725      -17.13725         34.27450  \n2     22.46298      -14.97532         37.43830  \n3     42.18400       -9.49140         51.67540  \n4     31.63800      -12.65520         44.29320  \n5     35.59275       -3.95475         39.54750  \n6     27.31414        0.00000         27.31414  \n7     79.51684      -12.23336         91.75020  \n8     21.77749       -9.33321         31.11070  \n9     30.58340        0.00000         30.58340  ",
      "text/html": "<div>\n<style scoped>\n    .dataframe tbody tr th:only-of-type {\n        vertical-align: middle;\n    }\n\n    .dataframe tbody tr th {\n        vertical-align: top;\n    }\n\n    .dataframe thead th {\n        text-align: right;\n    }\n</style>\n<table border=\"1\" class=\"dataframe\">\n  <thead>\n    <tr style=\"text-align: right;\">\n      <th></th>\n      <th>TransactionDate</th>\n      <th>DayOfWeek</th>\n      <th>WeekendFlag</th>\n      <th>StoreKey</th>\n      <th>ProductKey</th>\n      <th>UnitVolume</th>\n      <th>ActualSales</th>\n      <th>SalesDiscount</th>\n      <th>RetailFullPrice</th>\n    </tr>\n  </thead>\n  <tbody>\n    <tr>\n      <th>0</th>\n      <td>2020-01-29</td>\n      <td>Wednesday</td>\n      <td>False</td>\n      <td>118</td>\n      <td>49334</td>\n      <td>2.0</td>\n      <td>103.35080</td>\n      <td>-16.87360</td>\n      <td>120.22440</td>\n    </tr>\n    <tr>\n      <th>1</th>\n      <td>2021-10-31</td>\n      <td>Sunday</td>\n      <td>True</td>\n      <td>78</td>\n      <td>59511</td>\n      <td>1.0</td>\n      <td>17.13725</td>\n      <td>-17.13725</td>\n      <td>34.27450</td>\n    </tr>\n    <tr>\n      <th>2</th>\n      <td>2021-06-17</td>\n      <td>Thursday</td>\n      <td>False</td>\n      <td>672</td>\n      <td>97438</td>\n      <td>1.0</td>\n      <td>22.46298</td>\n      <td>-14.97532</td>\n      <td>37.43830</td>\n    </tr>\n    <tr>\n      <th>3</th>\n      <td>2022-02-06</td>\n      <td>Sunday</td>\n      <td>True</td>\n      <td>193</td>\n      <td>58921</td>\n      <td>2.0</td>\n      <td>42.18400</td>\n      <td>-9.49140</td>\n      <td>51.67540</td>\n    </tr>\n    <tr>\n      <th>4</th>\n      <td>2022-03-29</td>\n      <td>Tuesday</td>\n      <td>False</td>\n      <td>2059</td>\n      <td>44633</td>\n      <td>1.0</td>\n      <td>31.63800</td>\n      <td>-12.65520</td>\n      <td>44.29320</td>\n    </tr>\n    <tr>\n      <th>5</th>\n      <td>2020-01-03</td>\n      <td>Friday</td>\n      <td>False</td>\n      <td>577</td>\n      <td>78564</td>\n      <td>1.0</td>\n      <td>35.59275</td>\n      <td>-3.95475</td>\n      <td>39.54750</td>\n    </tr>\n    <tr>\n      <th>6</th>\n      <td>2020-03-10</td>\n      <td>Tuesday</td>\n      <td>False</td>\n      <td>539</td>\n      <td>95144</td>\n      <td>1.0</td>\n      <td>27.31414</td>\n      <td>0.00000</td>\n      <td>27.31414</td>\n    </tr>\n    <tr>\n      <th>7</th>\n      <td>2022-01-18</td>\n      <td>Tuesday</td>\n      <td>False</td>\n      <td>225</td>\n      <td>82315</td>\n      <td>3.0</td>\n      <td>79.51684</td>\n      <td>-12.23336</td>\n      <td>91.75020</td>\n    </tr>\n    <tr>\n      <th>8</th>\n      <td>2020-06-06</td>\n      <td>Saturday</td>\n      <td>True</td>\n      <td>579</td>\n      <td>49489</td>\n      <td>1.0</td>\n      <td>21.77749</td>\n      <td>-9.33321</td>\n      <td>31.11070</td>\n    </tr>\n    <tr>\n      <th>9</th>\n      <td>2022-08-19</td>\n      <td>Friday</td>\n      <td>False</td>\n      <td>620</td>\n      <td>49963</td>\n      <td>1.0</td>\n      <td>30.58340</td>\n      <td>0.00000</td>\n      <td>30.58340</td>\n    </tr>\n  </tbody>\n</table>\n</div>"
     },
     "execution_count": 82,
     "metadata": {},
     "output_type": "execute_result"
    }
   ],
   "source": [
    "df_salesDate = pd.read_csv('Assets/data/Hackathon_FactSalesTransactionDATES_vShared.csv',header=0)\n",
    "df_salesDate.head(10)"
   ],
   "metadata": {
    "collapsed": false,
    "pycharm": {
     "name": "#%%\n"
    }
   }
  },
  {
   "cell_type": "code",
   "execution_count": 83,
   "outputs": [
    {
     "data": {
      "text/plain": "TransactionDate     object\nDayOfWeek           object\nWeekendFlag         object\nStoreKey            object\nProductKey          object\nUnitVolume         float64\nActualSales        float64\nSalesDiscount      float64\nRetailFullPrice    float64\ndtype: object"
     },
     "execution_count": 83,
     "metadata": {},
     "output_type": "execute_result"
    }
   ],
   "source": [
    "df_salesDate.dtypes"
   ],
   "metadata": {
    "collapsed": false,
    "pycharm": {
     "name": "#%%\n"
    }
   }
  },
  {
   "cell_type": "code",
   "execution_count": 84,
   "outputs": [
    {
     "data": {
      "text/plain": "array(['49334', '59511', '97438', '58921', '44633', '78564', '95144',\n       '82315', '49489', '49963', '49169', '49328', '95821', '78905',\n       '26841', '49326', '78208', '32728', '62330', '78906', '49341',\n       '52107', '49333', '59736', '43547', '72598', '85818', '95816',\n       '44784', '49331', '88531', '44632', '49329', '49340', '72113',\n       '78907', '14412', '89922', '75906', '97953', '40863', '78206',\n       '81294', '94311', '14529', '49493', '88529', '52135', '95835',\n       '78913', '88528', '49327', '43632', '87723', '14397', '96762',\n       '26844', '88527', '62008', '96971', '49325', '41632', '14435',\n       '49492', 'Key49489', '49490', '97952', '40428', '52108', '35304',\n       '29698', '14654', '49621', '40432', '14608', '44786', '95822',\n       '62010', '95792', '78912', '97439', '93290', '94310', '39982',\n       '93291', '98193', '62331', '54161', '49330', '89815', '89699',\n       '73606', '73605', '30553', '78207', '49332', '39983', '93165',\n       '59999', '41631', '59759', '27434', '89813', '79378', '78910',\n       '72579', '86513', '50709', '78909', '69898', '52530', '43435',\n       '73604', '95818', '49495', 'Key95792', '52138', '31088', '95836',\n       '73607', '93163', '78914', '28134', '30905', nan, '72582',\n       'Key49333', '78911', '52446', '79377', '36484', '75386', '31091',\n       '18173', 'Key85818', 'Key49332', '88530', '36488', '78908',\n       '72581', '31366', '26718', 'Key78908', '93286', '14487', '26671',\n       '89814', '18570', '31090', '25136', '93278', '52017', '23920',\n       'Key52108', '97936', '31092', '65856', 'Key50709', '82314',\n       '40893', '72756', '81337', '87307', 'Key49621', '59509',\n       'Key40432', '95843', '79379', '28133', '21982', '19864', '31367',\n       '17081', '31089', '79436', '24998', 'Key97439', 'Key49331',\n       'Key49325', 'Key62331', 'Key62008', 'Key95816', 'Key94310',\n       'Key14397', 'Key14654', 'Key49326', 'Key44632', '36489',\n       'Key14487', 'Key49327', 'Key97936', 'Key81294', 'Key89922',\n       '73277', 'Key26844', '73855', 'Key49495', 'Key95835', '73866',\n       'Key78912', 'Key58921', 'Key43547', 'Key96762', 'Key75906',\n       'Key25136', 'Key49329', 'Key49492', 'Key14412', 'Key73606',\n       'Key88531', 'Key29698', 'Key88527', 'Key59511', 'Key18570',\n       '81336', 'Key49341', 'Key72756', 'Key97953', 'Key78914',\n       'Key97438', 'Key95821', 'Key72598', 'Key88529', 'Key44786',\n       'Key14608', 'Key52530', 'Key95818', 'Key62330', 'Key49334',\n       'Key36488', 'Key82315', 'Key94311', 'Key30905', 'Key49330',\n       'Key95822', 'Key95144', 'Key78907', 'Key78911', 'Key52138',\n       'Key49340', 'Key87723', 'Key23920', 'Key78905', 'Key78909',\n       '73188', 'Key59736', 'Key78910', 'Key86513', 'Key49328',\n       'Key69898', 'Key97952', 'Key73604', 'Key44784', 'Key59999',\n       'Key95836', 'Key93291', 'Key78906', 'Key49963', 'Key14529',\n       'Key14435', 'Key72581', 'Key78207', 'Key35304', 'Key98193',\n       'Key52107', 'Key30553', 'Key78564', '49622', 'Key59759',\n       'Key65856', 'Key78913', '47952', 'Key32728', 'Key93290',\n       'Key49490', 'Key49169', 'Key26841', 'Key72579', 'Key78206',\n       'Key49493', 'Key79378', 'Key95843', 'Key73277', 'Key73607',\n       'Key93163', 'Key43632', 'Key93165', 'Key31088', 'Key72582',\n       'Key52017', '12353', 'Key44633', '55441', 'Key79379', 'Key27434',\n       'Key39983', 'Key93286', '18639', '72015', 'Key89815', 'Key18173',\n       'Key62010', 'Key26671', 'Key52446', 'Key88528', 'Key78208',\n       'Key79377', 'Key96971', '12320', '12450', '35068', 'Key24998',\n       'Key40863', 'Key28134', 'Key26718', 'Key41632', 'Key31092',\n       'Key72113', '55248', '55440', 'Key36489', '22120', 'Key89699',\n       'Key52135', '49962', '12329', 'Key93278', '19431', 'Key31366',\n       'Key31089', '22003', '97442', 'Key59509', '19865', 'Key41631',\n       '12309', 'Key40428', '27474', '43425', 'Key36484', 'Key87307',\n       'Key88530', 'Key73605', '19866', '35032', 'Key39982', 'Key17081',\n       '54153', '78565', 'Key43435', 'Key31090', '12350', '77406',\n       'Key28133', 'Key89814', '35072', 'Key89813', '72114', 'Key79436',\n       '24115', '88534', '44606', '35033', 'Key82314', '22122',\n       'Key54161', '54159', '12354', '12272', '72013', '82594', '12268',\n       '12328', '54840', 'Key31367', '72014', '55442', 'Key75386',\n       '98876', '88532', '35070', '35249', '49187', '43822', '23708',\n       '12352', '12433', '65918', 'Key31091', '21238', '48913', '56528',\n       '49663', '49344', '88533', '79381', '22862', 'Key72114', '47944',\n       '41525', '88972', '49339', '23858', '12234', '23555', '58680',\n       '47075', '45391', '26961', '49343', '25867', '12429', '22000',\n       '49338', 'Key73855', '26803', '14138', '49859', '48728', '55438',\n       '26140', '98874', '42364', '26797', '55443', '40924', '20827',\n       'Key19865', '21057', '49491', '12349', '45803', '40925', '45203',\n       '22128', '55437', '82116', 'Key19864', '21963', '45811',\n       'Key73188', 'Key81337', '42606', '42575', 'Key40893', '26801',\n       '24548', 'Key81336', '23534', '96382', '76961', '48595', '88535',\n       '28152', '48446', '44600', '41269', '43361', '94143', '42133',\n       '23070', '23856', '59758', '45812', '41526', '73163', '49494',\n       '22131', '48671', '49342'], dtype=object)"
     },
     "execution_count": 84,
     "metadata": {},
     "output_type": "execute_result"
    }
   ],
   "source": [
    "df_salesDate.ProductKey.unique()"
   ],
   "metadata": {
    "collapsed": false,
    "pycharm": {
     "name": "#%%\n"
    }
   }
  },
  {
   "cell_type": "code",
   "execution_count": 85,
   "outputs": [
    {
     "data": {
      "text/plain": "array(['118', '78', '672', ..., '802_Key', '897_Key', '543_Key'],\n      dtype=object)"
     },
     "execution_count": 85,
     "metadata": {},
     "output_type": "execute_result"
    }
   ],
   "source": [
    "df_salesDate.StoreKey.unique()"
   ],
   "metadata": {
    "collapsed": false,
    "pycharm": {
     "name": "#%%\n"
    }
   }
  },
  {
   "cell_type": "code",
   "execution_count": 113,
   "outputs": [
    {
     "name": "stdout",
     "output_type": "stream",
     "text": [
      "TransactionDate    23978\n",
      "DayOfWeek          23978\n",
      "WeekendFlag        23978\n",
      "StoreKey           23978\n",
      "ProductKey         23978\n",
      "UnitVolume         23978\n",
      "ActualSales        96103\n",
      "SalesDiscount      23978\n",
      "RetailFullPrice    23978\n",
      "dtype: int64\n"
     ]
    }
   ],
   "source": [
    "print(df_salesDate.isnull().sum())"
   ],
   "metadata": {
    "collapsed": false,
    "pycharm": {
     "name": "#%%\n"
    }
   }
  },
  {
   "cell_type": "code",
   "execution_count": 112,
   "outputs": [
    {
     "ename": "ValueError",
     "evalue": "invalid literal for int() with base 10: ''",
     "output_type": "error",
     "traceback": [
      "\u001B[1;31m---------------------------------------------------------------------------\u001B[0m",
      "\u001B[1;31mValueError\u001B[0m                                Traceback (most recent call last)",
      "\u001B[1;32m~\\AppData\\Local\\Temp/ipykernel_15764/2266078001.py\u001B[0m in \u001B[0;36m<module>\u001B[1;34m\u001B[0m\n\u001B[0;32m      1\u001B[0m \u001B[0mdf_salesDate_clean\u001B[0m \u001B[1;33m=\u001B[0m \u001B[0mdf_salesDate\u001B[0m\u001B[1;33m.\u001B[0m\u001B[0mcopy\u001B[0m\u001B[1;33m(\u001B[0m\u001B[1;33m)\u001B[0m\u001B[1;33m\u001B[0m\u001B[1;33m\u001B[0m\u001B[0m\n\u001B[0;32m      2\u001B[0m \u001B[1;32mfor\u001B[0m \u001B[0mcol\u001B[0m \u001B[1;32min\u001B[0m \u001B[1;33m[\u001B[0m\u001B[1;34m'StoreKey'\u001B[0m\u001B[1;33m,\u001B[0m \u001B[1;34m'ProductKey'\u001B[0m\u001B[1;33m]\u001B[0m\u001B[1;33m:\u001B[0m\u001B[1;33m\u001B[0m\u001B[1;33m\u001B[0m\u001B[0m\n\u001B[1;32m----> 3\u001B[1;33m     \u001B[0mdf_salesDate_clean\u001B[0m\u001B[1;33m[\u001B[0m\u001B[0mcol\u001B[0m\u001B[1;33m]\u001B[0m \u001B[1;33m=\u001B[0m \u001B[0mdf_salesDate\u001B[0m\u001B[1;33m[\u001B[0m\u001B[0mcol\u001B[0m\u001B[1;33m]\u001B[0m\u001B[1;33m.\u001B[0m\u001B[0mapply\u001B[0m\u001B[1;33m(\u001B[0m\u001B[0mremove_non_numbers\u001B[0m\u001B[1;33m)\u001B[0m\u001B[1;33m\u001B[0m\u001B[1;33m\u001B[0m\u001B[0m\n\u001B[0m\u001B[0;32m      4\u001B[0m     \u001B[0mdf_salesDate_clean\u001B[0m\u001B[1;33m[\u001B[0m\u001B[0mcol\u001B[0m\u001B[1;33m]\u001B[0m \u001B[1;33m=\u001B[0m \u001B[0mdf_salesDate\u001B[0m\u001B[1;33m[\u001B[0m\u001B[0mcol\u001B[0m\u001B[1;33m]\u001B[0m\u001B[1;33m.\u001B[0m\u001B[0mapply\u001B[0m\u001B[1;33m(\u001B[0m\u001B[0mremove_punctuations\u001B[0m\u001B[1;33m)\u001B[0m\u001B[1;33m\u001B[0m\u001B[1;33m\u001B[0m\u001B[0m\n\u001B[0;32m      5\u001B[0m \u001B[1;33m\u001B[0m\u001B[0m\n",
      "\u001B[1;32mD:\\Anaconda\\envs\\main\\lib\\site-packages\\pandas\\core\\series.py\u001B[0m in \u001B[0;36mapply\u001B[1;34m(self, func, convert_dtype, args, **kwargs)\u001B[0m\n\u001B[0;32m   4355\u001B[0m         \u001B[0mdtype\u001B[0m\u001B[1;33m:\u001B[0m \u001B[0mfloat64\u001B[0m\u001B[1;33m\u001B[0m\u001B[1;33m\u001B[0m\u001B[0m\n\u001B[0;32m   4356\u001B[0m         \"\"\"\n\u001B[1;32m-> 4357\u001B[1;33m         \u001B[1;32mreturn\u001B[0m \u001B[0mSeriesApply\u001B[0m\u001B[1;33m(\u001B[0m\u001B[0mself\u001B[0m\u001B[1;33m,\u001B[0m \u001B[0mfunc\u001B[0m\u001B[1;33m,\u001B[0m \u001B[0mconvert_dtype\u001B[0m\u001B[1;33m,\u001B[0m \u001B[0margs\u001B[0m\u001B[1;33m,\u001B[0m \u001B[0mkwargs\u001B[0m\u001B[1;33m)\u001B[0m\u001B[1;33m.\u001B[0m\u001B[0mapply\u001B[0m\u001B[1;33m(\u001B[0m\u001B[1;33m)\u001B[0m\u001B[1;33m\u001B[0m\u001B[1;33m\u001B[0m\u001B[0m\n\u001B[0m\u001B[0;32m   4358\u001B[0m \u001B[1;33m\u001B[0m\u001B[0m\n\u001B[0;32m   4359\u001B[0m     def _reduce(\n",
      "\u001B[1;32mD:\\Anaconda\\envs\\main\\lib\\site-packages\\pandas\\core\\apply.py\u001B[0m in \u001B[0;36mapply\u001B[1;34m(self)\u001B[0m\n\u001B[0;32m   1041\u001B[0m             \u001B[1;32mreturn\u001B[0m \u001B[0mself\u001B[0m\u001B[1;33m.\u001B[0m\u001B[0mapply_str\u001B[0m\u001B[1;33m(\u001B[0m\u001B[1;33m)\u001B[0m\u001B[1;33m\u001B[0m\u001B[1;33m\u001B[0m\u001B[0m\n\u001B[0;32m   1042\u001B[0m \u001B[1;33m\u001B[0m\u001B[0m\n\u001B[1;32m-> 1043\u001B[1;33m         \u001B[1;32mreturn\u001B[0m \u001B[0mself\u001B[0m\u001B[1;33m.\u001B[0m\u001B[0mapply_standard\u001B[0m\u001B[1;33m(\u001B[0m\u001B[1;33m)\u001B[0m\u001B[1;33m\u001B[0m\u001B[1;33m\u001B[0m\u001B[0m\n\u001B[0m\u001B[0;32m   1044\u001B[0m \u001B[1;33m\u001B[0m\u001B[0m\n\u001B[0;32m   1045\u001B[0m     \u001B[1;32mdef\u001B[0m \u001B[0magg\u001B[0m\u001B[1;33m(\u001B[0m\u001B[0mself\u001B[0m\u001B[1;33m)\u001B[0m\u001B[1;33m:\u001B[0m\u001B[1;33m\u001B[0m\u001B[1;33m\u001B[0m\u001B[0m\n",
      "\u001B[1;32mD:\\Anaconda\\envs\\main\\lib\\site-packages\\pandas\\core\\apply.py\u001B[0m in \u001B[0;36mapply_standard\u001B[1;34m(self)\u001B[0m\n\u001B[0;32m   1096\u001B[0m                 \u001B[1;31m# List[Union[Callable[..., Any], str]]]]]\"; expected\u001B[0m\u001B[1;33m\u001B[0m\u001B[1;33m\u001B[0m\u001B[1;33m\u001B[0m\u001B[0m\n\u001B[0;32m   1097\u001B[0m                 \u001B[1;31m# \"Callable[[Any], Any]\"\u001B[0m\u001B[1;33m\u001B[0m\u001B[1;33m\u001B[0m\u001B[1;33m\u001B[0m\u001B[0m\n\u001B[1;32m-> 1098\u001B[1;33m                 mapped = lib.map_infer(\n\u001B[0m\u001B[0;32m   1099\u001B[0m                     \u001B[0mvalues\u001B[0m\u001B[1;33m,\u001B[0m\u001B[1;33m\u001B[0m\u001B[1;33m\u001B[0m\u001B[0m\n\u001B[0;32m   1100\u001B[0m                     \u001B[0mf\u001B[0m\u001B[1;33m,\u001B[0m  \u001B[1;31m# type: ignore[arg-type]\u001B[0m\u001B[1;33m\u001B[0m\u001B[1;33m\u001B[0m\u001B[0m\n",
      "\u001B[1;32mD:\\Anaconda\\envs\\main\\lib\\site-packages\\pandas\\_libs\\lib.pyx\u001B[0m in \u001B[0;36mpandas._libs.lib.map_infer\u001B[1;34m()\u001B[0m\n",
      "\u001B[1;32m~\\AppData\\Local\\Temp/ipykernel_15764/3817476236.py\u001B[0m in \u001B[0;36mremove_non_numbers\u001B[1;34m(ts)\u001B[0m\n\u001B[0;32m     27\u001B[0m         \u001B[0mthe\u001B[0m \u001B[0mcleaned\u001B[0m \u001B[0mversion\u001B[0m\u001B[1;33m\u001B[0m\u001B[1;33m\u001B[0m\u001B[0m\n\u001B[0;32m     28\u001B[0m       '''\n\u001B[1;32m---> 29\u001B[1;33m     \u001B[1;32mreturn\u001B[0m \u001B[0mint\u001B[0m\u001B[1;33m(\u001B[0m\u001B[0mre\u001B[0m\u001B[1;33m.\u001B[0m\u001B[0msub\u001B[0m\u001B[1;33m(\u001B[0m\u001B[1;34m'[^0-9.]'\u001B[0m\u001B[1;33m,\u001B[0m \u001B[1;34m''\u001B[0m\u001B[1;33m,\u001B[0m\u001B[0mstr\u001B[0m\u001B[1;33m(\u001B[0m\u001B[0mts\u001B[0m\u001B[1;33m)\u001B[0m\u001B[1;33m)\u001B[0m\u001B[1;33m)\u001B[0m\u001B[1;33m\u001B[0m\u001B[1;33m\u001B[0m\u001B[0m\n\u001B[0m\u001B[0;32m     30\u001B[0m \u001B[1;33m\u001B[0m\u001B[0m\n\u001B[0;32m     31\u001B[0m \u001B[1;32mdef\u001B[0m \u001B[0mna_filter\u001B[0m\u001B[1;33m(\u001B[0m\u001B[0mts\u001B[0m\u001B[1;33m)\u001B[0m\u001B[1;33m:\u001B[0m\u001B[1;33m\u001B[0m\u001B[1;33m\u001B[0m\u001B[0m\n",
      "\u001B[1;31mValueError\u001B[0m: invalid literal for int() with base 10: ''"
     ]
    }
   ],
   "source": [
    "df_salesDate_clean = df_salesDate.copy()\n",
    "for col in ['StoreKey', 'ProductKey']:\n",
    "    df_salesDate_clean[col] = df_salesDate[col].apply(remove_non_numbers)\n",
    "    df_salesDate_clean[col] = df_salesDate[col].apply(remove_punctuations)\n"
   ],
   "metadata": {
    "collapsed": false,
    "pycharm": {
     "name": "#%%\n"
    }
   }
  },
  {
   "cell_type": "code",
   "execution_count": null,
   "outputs": [],
   "source": [],
   "metadata": {
    "collapsed": false,
    "pycharm": {
     "name": "#%%\n"
    }
   }
  },
  {
   "cell_type": "code",
   "execution_count": null,
   "outputs": [],
   "source": [
    "import numpy as np\n",
    "from nltk.corpus import stopwords\n",
    "import spacy\n",
    "nlp = spacy.load('it_core_news_sm')\n",
    "import string\n",
    "import re\n",
    "import gensim\n",
    "from gensim.utils import simple_preprocess\n",
    "class preprocess_pip():\n",
    "    def __init__(self,df ,column_name):\n",
    "        self.df = df\n",
    "        self.old_text = column_name\n",
    "        self.text = column_name+'_clean'\n",
    "\n",
    "    def apply_preprocessing(self):\n",
    "#         self.df[self.text] =  self.df[self.old_text].astype('string')\n",
    "        self.df[self.text] = self.df[self.old_text].apply(self.na_filter)\n",
    "        self.df.dropna(subset=[self.text],inplace=True)\n",
    "        self.df[self.text] = self.df[self.text].apply(self.remove_punctuations)\n",
    "        self.df[self.text] = self.df[self.text].apply(self.to_lower)\n",
    "        self.df[self.text] = self.df[self.text].apply(self.stop_word_elm)\n",
    "        self.df[self.text] = self.df[self.text].apply(self.deEmojify)\n",
    "        self.df[self.text] = self.df[self.text].apply(self.na_filter)\n",
    "        self.df.dropna(axis=0, how='any',subset=[self.text])\n",
    "#         self.df.drop('index',axis=1,inplace=True)\n",
    "        self.df.reset_index(inplace=True)\n",
    "        self.df.drop('index',axis=1,inplace=True)\n",
    "        self.df[self.text].replace(\"[0-9,€$-;\\'\\\"]\", '', regex=True,inplace=True)\n",
    "        self.df.dropna(subset=[self.text],inplace=True)\n",
    "        self.df=self.df[self.df[self.text]!='']\n",
    "\n",
    "\n",
    "    def na_filter(self, text):\n",
    "        if len(text)>0:\n",
    "            return text\n",
    "        return\n",
    "\n",
    "    def remove_punctuations(self, text):\n",
    "        text=str(text)\n",
    "        for punctuation in string.punctuation:\n",
    "            text = text.replace(punctuation, '')\n",
    "        return text\n",
    "\n",
    "    def to_lower(self, text):\n",
    "        return text.lower()\n",
    "\n",
    "    def stop_word_elm(self, text):\n",
    "        new_text=[]\n",
    "        for i in text.split():\n",
    "            if i not in italian_stopwords:\n",
    "                new_text.append(i)\n",
    "        return ' '.join(new_text)\n",
    "\n",
    "    def deEmojify(self, text):\n",
    "        regrex_pattern = re.compile(pattern = \"[\"\n",
    "            u\"\\U0001F600-\\U0001F64F\"  # emoticons\n",
    "            \"🤮\"\n",
    "            \"🤬\"\n",
    "            u\"\\U0001F300-\\U0001F5FF\"  # symbols & pictographs\n",
    "            u\"\\U0001F680-\\U0001F6FF\"  # transport & map symbols\n",
    "            u\"\\U0001F1E0-\\U0001F1FF\"  # flags (iOS)\n",
    "                               \"]+\", flags = re.UNICODE)\n",
    "        return regrex_pattern.sub(r'',text)\n",
    "\n",
    "    def sent_to_words(self, text):\n",
    "        for sentence in text:\n",
    "            yield(gensim.utils.simple_preprocess(str(sentence), deacc=True))  # deacc=True removes punctuations"
   ],
   "metadata": {
    "collapsed": false,
    "pycharm": {
     "name": "#%%\n"
    }
   }
  }
 ],
 "metadata": {
  "kernelspec": {
   "display_name": "Python 3",
   "language": "python",
   "name": "python3"
  },
  "language_info": {
   "codemirror_mode": {
    "name": "ipython",
    "version": 2
   },
   "file_extension": ".py",
   "mimetype": "text/x-python",
   "name": "python",
   "nbconvert_exporter": "python",
   "pygments_lexer": "ipython2",
   "version": "2.7.6"
  }
 },
 "nbformat": 4,
 "nbformat_minor": 0
}